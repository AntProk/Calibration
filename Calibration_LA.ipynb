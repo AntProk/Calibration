{
 "cells": [
  {
   "cell_type": "markdown",
   "metadata": {},
   "source": [
    "# Weights estimation for the seat and floor sensors using 2 and 10 kg.\n",
    "\n",
    "http://www.chegg.com/homework-help/linear-algebra-and-its-applications-books-a-la-carte-edition-5th-edition-chapter-6.5-solutions-9780321982650\n",
    "\n",
    "Trying to Apply the equation from the link above"
   ]
  },
  {
   "cell_type": "code",
   "execution_count": 14,
   "metadata": {},
   "outputs": [
    {
     "name": "stdout",
     "output_type": "stream",
     "text": [
      "___________ 2 KG _____________\n",
      "\n",
      "##########SEAT###########\n",
      "Left Front [[-0.00061035]]\n",
      "Right Rare [[0.00018311]]\n",
      "Right Front [[6.10351562e-05]]\n",
      "Right Rare [[-0.00012207]]\n",
      "##########FLOOR##########\n",
      "Left Front [[0.00097656]]\n",
      "Left Rare [[-0.00024414]]\n",
      "Right Front [[0.00030518]]\n",
      "Right Rare [[0.00019073]]\n",
      "\n",
      "\n",
      "_____________ 10 KG ______________\n",
      "\n",
      "[[-4.57763672e-05]\n",
      " [ 0.00000000e+00]\n",
      " [ 6.10351562e-05]\n",
      " [ 9.15527344e-05]\n",
      " [ 1.71661377e-04]\n",
      " [ 1.83105469e-04]\n",
      " [-2.13623047e-04]\n",
      " [-1.52587891e-04]]\n"
     ]
    }
   ],
   "source": [
    "\n",
    "import numpy as np\n",
    "from numpy.linalg import inv\n",
    "from numpy.linalg import det\n",
    "from scipy.linalg import det as scidet\n",
    "from scipy.linalg import inv as sciinv\n",
    "# 2 KG measurement\n",
    "#row1=position1:seatLF;seatLR;seatRF;seatRR;floorLF;floorLR;floorRF;floorRR\n",
    "#row2=position2\n",
    "#row3=position3\n",
    "#row4=position4\n",
    "#row5=position5\n",
    "R=np.matrix([[124153.7,73035.1,121935,71190.2,52625.5,54041.6,53321.1,46651],\n",
    "   [144937,85171.7,142028.4,83221.7,61430.2,62670.7,61931.5,53167.4],\n",
    "   [165505.2,97458.2,162360.5,95029.6,69998.2,71523.9,70662.5,59672.8],\n",
    "             [185382.2,109514.1,181892.2,106464.3,78416.9,80170.3,78978.6,65565.1],\n",
    "             [205947.6,121348.8,201905.2,118314.8,87100.1,88890.3,87687.9,72069.7]])\n",
    "\n",
    "#10 KG measurement using 3 lever positions\n",
    "TenKG=np.matrix([[637858.3,362219.3,627672.5,360303.2,259053.7,276724.9,272817,188650.9],\n",
    "                 [743197.9,421079.1,731830.3,423744.9,288124.6,321570.7,316868,221065.2],\n",
    "                 [849201.2,479489.5,836730.5,483430.2,319021.1,367194.1,361387.1,253535.6]])\n",
    "\n",
    "\n",
    "#known mass vector\n",
    "m1=np.matrix([2,2,2,2,2])\n",
    "m10=np.matrix([10,10,10])\n",
    "j=0\n",
    "\n",
    "#Equation for 2KG\n",
    "firstPart=inv(np.matmul(R.T,R))\n",
    "secondPart=np.matmul(R.T,m1.T)\n",
    "W=firstPart*secondPart\n",
    "\n",
    "print (\"___________ 2 KG _____________\")\n",
    "print()\n",
    "print(\"##########SEAT###########\")\n",
    "for i in range (len(W)):\n",
    "    j+=1\n",
    "    if j==5:\n",
    "        print (\"##########FLOOR##########\")\n",
    "        j=0  \n",
    "    if i%2==0:\n",
    "        if(j<2):\n",
    "            print(\"Left Front\",W[i])\n",
    "        else:\n",
    "            print(\"Right Front\",W[i])\n",
    "    else:\n",
    "        if(j<2):\n",
    "            print(\"Left Rare\",W[i])\n",
    "        else:\n",
    "            print(\"Right Rare\",W[i])\n",
    "\n",
    "print ()\n",
    "print ()\n",
    "print (\"_____________ 10 KG ______________\")\n",
    "print ()\n",
    "\n",
    "firstPart=sciinv(np.matmul(TenKG.T,TenKG))\n",
    "secondPart=np.matmul(TenKG.T,m10.T)\n",
    "W10=firstPart*secondPart\n",
    "print(W10)"
   ]
  },
  {
   "cell_type": "code",
   "execution_count": null,
   "metadata": {},
   "outputs": [],
   "source": []
  },
  {
   "cell_type": "code",
   "execution_count": null,
   "metadata": {},
   "outputs": [],
   "source": []
  }
 ],
 "metadata": {
  "kernelspec": {
   "display_name": "Python 3",
   "language": "python",
   "name": "python3"
  },
  "language_info": {
   "codemirror_mode": {
    "name": "ipython",
    "version": 3
   },
   "file_extension": ".py",
   "mimetype": "text/x-python",
   "name": "python",
   "nbconvert_exporter": "python",
   "pygments_lexer": "ipython3",
   "version": "3.6.4"
  }
 },
 "nbformat": 4,
 "nbformat_minor": 2
}
